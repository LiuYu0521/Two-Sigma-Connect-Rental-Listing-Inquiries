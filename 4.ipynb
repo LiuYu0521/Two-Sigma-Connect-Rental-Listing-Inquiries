{
 "cells": [
  {
   "cell_type": "code",
   "execution_count": 1,
   "metadata": {
    "collapsed": false
   },
   "outputs": [
    {
     "name": "stderr",
     "output_type": "stream",
     "text": [
      "C:\\Anaconda3\\lib\\site-packages\\sklearn\\cross_validation.py:44: DeprecationWarning: This module was deprecated in version 0.18 in favor of the model_selection module into which all the refactored classes and functions are moved. Also note that the interface of the new CV iterators are different from that of this module. This module will be removed in 0.20.\n",
      "  \"This module will be removed in 0.20.\", DeprecationWarning)\n"
     ]
    }
   ],
   "source": [
    "from xgboost import XGBClassifier\n",
    "import xgboost as xgb\n",
    "\n",
    "import pandas as pd \n",
    "import numpy as np\n",
    "\n",
    "from sklearn.model_selection import GridSearchCV\n",
    "from sklearn.model_selection import StratifiedKFold\n",
    "\n",
    "from sklearn.metrics import log_loss\n",
    "\n",
    "from matplotlib import pyplot\n",
    "import seaborn as sns\n",
    "%matplotlib inline"
   ]
  },
  {
   "cell_type": "code",
   "execution_count": 2,
   "metadata": {
    "collapsed": true
   },
   "outputs": [],
   "source": [
    "train = pd.read_csv(\"RentListingInquries_FE_train.csv\")\n",
    "y_train = train['interest_level']\n",
    "train = train.drop(['interest_level'], axis = 1)\n",
    "X_train = np.array(train)"
   ]
  },
  {
   "cell_type": "code",
   "execution_count": 3,
   "metadata": {
    "collapsed": true
   },
   "outputs": [],
   "source": [
    "# prepare cross validation\n",
    "kfold = StratifiedKFold(n_splits=5, shuffle=True, random_state=3)"
   ]
  },
  {
   "cell_type": "code",
   "execution_count": 4,
   "metadata": {
    "collapsed": false
   },
   "outputs": [
    {
     "data": {
      "text/plain": [
       "{'colsample_bytree': [0.6, 0.7, 0.8, 0.9],\n",
       " 'subsample': [0.3, 0.4, 0.5, 0.6, 0.7, 0.8]}"
      ]
     },
     "execution_count": 4,
     "metadata": {},
     "output_type": "execute_result"
    }
   ],
   "source": [
    "#max_depth 建议3-10， min_child_weight=1／sqrt(ratio_rare_event) =5.5\n",
    "subsample = [i/10.0 for i in range(3,9)]\n",
    "colsample_bytree = [i/10.0 for i in range(6,10)]\n",
    "param_test3_1 = dict(subsample=subsample, colsample_bytree=colsample_bytree)\n",
    "param_test3_1"
   ]
  },
  {
   "cell_type": "code",
   "execution_count": 5,
   "metadata": {
    "collapsed": false
   },
   "outputs": [
    {
     "name": "stderr",
     "output_type": "stream",
     "text": [
      "C:\\Anaconda3\\lib\\site-packages\\sklearn\\model_selection\\_search.py:667: DeprecationWarning: The grid_scores_ attribute was deprecated in version 0.18 in favor of the more elaborate cv_results_ attribute. The grid_scores_ attribute will not be available from 0.20\n",
      "  DeprecationWarning)\n"
     ]
    },
    {
     "data": {
      "text/plain": [
       "([mean: -0.57607, std: 0.00445, params: {'colsample_bytree': 0.6, 'subsample': 0.3},\n",
       "  mean: -0.57203, std: 0.00366, params: {'colsample_bytree': 0.6, 'subsample': 0.4},\n",
       "  mean: -0.57045, std: 0.00423, params: {'colsample_bytree': 0.6, 'subsample': 0.5},\n",
       "  mean: -0.56898, std: 0.00417, params: {'colsample_bytree': 0.6, 'subsample': 0.6},\n",
       "  mean: -0.56896, std: 0.00424, params: {'colsample_bytree': 0.6, 'subsample': 0.7},\n",
       "  mean: -0.56785, std: 0.00410, params: {'colsample_bytree': 0.6, 'subsample': 0.8},\n",
       "  mean: -0.57520, std: 0.00362, params: {'colsample_bytree': 0.7, 'subsample': 0.3},\n",
       "  mean: -0.57237, std: 0.00418, params: {'colsample_bytree': 0.7, 'subsample': 0.4},\n",
       "  mean: -0.56999, std: 0.00397, params: {'colsample_bytree': 0.7, 'subsample': 0.5},\n",
       "  mean: -0.56984, std: 0.00391, params: {'colsample_bytree': 0.7, 'subsample': 0.6},\n",
       "  mean: -0.56871, std: 0.00450, params: {'colsample_bytree': 0.7, 'subsample': 0.7},\n",
       "  mean: -0.56763, std: 0.00511, params: {'colsample_bytree': 0.7, 'subsample': 0.8},\n",
       "  mean: -0.57459, std: 0.00501, params: {'colsample_bytree': 0.8, 'subsample': 0.3},\n",
       "  mean: -0.57311, std: 0.00484, params: {'colsample_bytree': 0.8, 'subsample': 0.4},\n",
       "  mean: -0.57102, std: 0.00398, params: {'colsample_bytree': 0.8, 'subsample': 0.5},\n",
       "  mean: -0.56888, std: 0.00477, params: {'colsample_bytree': 0.8, 'subsample': 0.6},\n",
       "  mean: -0.56841, std: 0.00451, params: {'colsample_bytree': 0.8, 'subsample': 0.7},\n",
       "  mean: -0.56726, std: 0.00479, params: {'colsample_bytree': 0.8, 'subsample': 0.8},\n",
       "  mean: -0.57567, std: 0.00430, params: {'colsample_bytree': 0.9, 'subsample': 0.3},\n",
       "  mean: -0.57262, std: 0.00445, params: {'colsample_bytree': 0.9, 'subsample': 0.4},\n",
       "  mean: -0.57121, std: 0.00386, params: {'colsample_bytree': 0.9, 'subsample': 0.5},\n",
       "  mean: -0.57040, std: 0.00423, params: {'colsample_bytree': 0.9, 'subsample': 0.6},\n",
       "  mean: -0.56881, std: 0.00424, params: {'colsample_bytree': 0.9, 'subsample': 0.7},\n",
       "  mean: -0.56750, std: 0.00533, params: {'colsample_bytree': 0.9, 'subsample': 0.8}],\n",
       " {'colsample_bytree': 0.8, 'subsample': 0.8},\n",
       " -0.56726145380920967)"
      ]
     },
     "execution_count": 5,
     "metadata": {},
     "output_type": "execute_result"
    }
   ],
   "source": [
    "xgb3_1 = XGBClassifier(\n",
    "        learning_rate =0.1,\n",
    "        n_estimators=305,  #第二轮参数调整得到的n_estimators最优值\n",
    "        max_depth=5,\n",
    "        min_child_weight=5,\n",
    "        gamma=0,\n",
    "        subsample=0.3,\n",
    "        colsample_bytree=0.8,\n",
    "        colsample_bylevel = 0.7,\n",
    "        objective= 'multi:softprob',\n",
    "        seed=3)\n",
    "\n",
    "\n",
    "gsearch3_1 = GridSearchCV(xgb3_1, param_grid = param_test3_1, scoring='neg_log_loss',n_jobs=-1, cv=kfold)\n",
    "gsearch3_1.fit(X_train , y_train)\n",
    "\n",
    "gsearch3_1.grid_scores_, gsearch3_1.best_params_,     gsearch3_1.best_score_"
   ]
  },
  {
   "cell_type": "code",
   "execution_count": null,
   "metadata": {
    "collapsed": true
   },
   "outputs": [],
   "source": []
  }
 ],
 "metadata": {
  "kernelspec": {
   "display_name": "Python 3",
   "language": "python",
   "name": "python3"
  },
  "language_info": {
   "codemirror_mode": {
    "name": "ipython",
    "version": 3
   },
   "file_extension": ".py",
   "mimetype": "text/x-python",
   "name": "python",
   "nbconvert_exporter": "python",
   "pygments_lexer": "ipython3",
   "version": "3.6.0"
  }
 },
 "nbformat": 4,
 "nbformat_minor": 2
}
