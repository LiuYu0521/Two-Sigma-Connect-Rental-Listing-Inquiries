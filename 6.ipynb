{
 "cells": [
  {
   "cell_type": "code",
   "execution_count": 1,
   "metadata": {
    "collapsed": false
   },
   "outputs": [
    {
     "name": "stderr",
     "output_type": "stream",
     "text": [
      "C:\\Anaconda3\\lib\\site-packages\\sklearn\\cross_validation.py:44: DeprecationWarning: This module was deprecated in version 0.18 in favor of the model_selection module into which all the refactored classes and functions are moved. Also note that the interface of the new CV iterators are different from that of this module. This module will be removed in 0.20.\n",
      "  \"This module will be removed in 0.20.\", DeprecationWarning)\n"
     ]
    }
   ],
   "source": [
    "from xgboost import XGBClassifier\n",
    "import xgboost as xgb\n",
    "\n",
    "import pandas as pd \n",
    "import numpy as np\n",
    "\n",
    "from sklearn.model_selection import GridSearchCV\n",
    "from sklearn.model_selection import StratifiedKFold\n",
    "\n",
    "from sklearn.metrics import log_loss\n",
    "\n",
    "from matplotlib import pyplot\n",
    "import seaborn as sns\n",
    "%matplotlib inline"
   ]
  },
  {
   "cell_type": "code",
   "execution_count": 2,
   "metadata": {
    "collapsed": true
   },
   "outputs": [],
   "source": [
    "train = pd.read_csv(\"RentListingInquries_FE_train.csv\")\n",
    "y_train = train['interest_level']\n",
    "train = train.drop(['interest_level'], axis = 1)\n",
    "X_train = np.array(train)"
   ]
  },
  {
   "cell_type": "code",
   "execution_count": 3,
   "metadata": {
    "collapsed": true
   },
   "outputs": [],
   "source": [
    "# prepare cross validation\n",
    "kfold = StratifiedKFold(n_splits=5, shuffle=True, random_state=3)"
   ]
  },
  {
   "cell_type": "code",
   "execution_count": 4,
   "metadata": {
    "collapsed": true
   },
   "outputs": [],
   "source": [
    "def modelfit(alg, X_train, y_train, useTrainCV=True, cv_folds=None, early_stopping_rounds=50):\n",
    "    \n",
    "    if useTrainCV:\n",
    "        xgb_param = alg.get_xgb_params()\n",
    "        xgb_param['num_class'] = 3\n",
    "        \n",
    "        xgtrain = xgb.DMatrix(X_train, label = y_train)\n",
    "        \n",
    "        cvresult = xgb.cv(xgb_param, xgtrain, num_boost_round=alg.get_params()['n_estimators'], folds =list(cv_folds.split(X_train, y_train)),\n",
    "                         metrics='mlogloss', early_stopping_rounds=early_stopping_rounds)\n",
    "        \n",
    "        n_estimators = cvresult.shape[0]\n",
    "        alg.set_params(n_estimators = n_estimators)\n",
    "        \n",
    "        print (cvresult)\n",
    "        #result = pd.DataFrame(cvresult)   #cv缺省返回结果为DataFrame\n",
    "        #result.to_csv('my_preds.csv', index_label = 'n_estimators')\n",
    "        cvresult.to_csv('my_preds_6.csv', index_label = 'n_estimators')\n",
    "        \n",
    "        # plot\n",
    "        test_means = cvresult['test-mlogloss-mean']\n",
    "        test_stds = cvresult['test-mlogloss-std'] \n",
    "        \n",
    "        train_means = cvresult['train-mlogloss-mean']\n",
    "        train_stds = cvresult['train-mlogloss-std'] \n",
    "\n",
    "        x_axis = range(0, n_estimators)\n",
    "        pyplot.errorbar(x_axis, test_means, yerr=test_stds ,label='Test')\n",
    "        pyplot.errorbar(x_axis, train_means, yerr=train_stds ,label='Train')\n",
    "        pyplot.title(\"XGBoost n_estimators vs Log Loss\")\n",
    "        pyplot.xlabel( 'n_estimators' )\n",
    "        pyplot.ylabel( 'Log Loss' )\n",
    "        pyplot.savefig( 'n_estimators_6.png' )\n",
    "    \n",
    "    #Fit the algorithm on the data\n",
    "    alg.fit(X_train, y_train, eval_metric='mlogloss')\n",
    "        \n",
    "    #Predict training set:\n",
    "    train_predprob = alg.predict_proba(X_train)\n",
    "    logloss = log_loss(y_train, train_predprob)\n",
    "\n",
    "        \n",
    "    #Print model report:\n",
    "    print (\"logloss of train :\" )\n",
    "    print (logloss)"
   ]
  },
  {
   "cell_type": "code",
   "execution_count": 13,
   "metadata": {
    "collapsed": false
   },
   "outputs": [
    {
     "name": "stdout",
     "output_type": "stream",
     "text": [
      "     test-mlogloss-mean  test-mlogloss-std  train-mlogloss-mean  \\\n",
      "0              1.068430           0.000099             1.068221   \n",
      "1              1.040680           0.000246             1.040207   \n",
      "2              1.015064           0.000505             1.014395   \n",
      "3              0.991267           0.000766             0.990384   \n",
      "4              0.969060           0.000798             0.967924   \n",
      "5              0.948533           0.000719             0.947198   \n",
      "6              0.929490           0.000691             0.927939   \n",
      "7              0.911878           0.000784             0.910042   \n",
      "8              0.895402           0.000747             0.893337   \n",
      "9              0.880112           0.000666             0.877818   \n",
      "10             0.865825           0.000727             0.863297   \n",
      "11             0.852361           0.000737             0.849573   \n",
      "12             0.839680           0.000784             0.836681   \n",
      "13             0.827906           0.000836             0.824665   \n",
      "14             0.816811           0.000855             0.813375   \n",
      "15             0.806437           0.000819             0.802782   \n",
      "16             0.796653           0.000883             0.792779   \n",
      "17             0.787469           0.000887             0.783353   \n",
      "18             0.778739           0.000836             0.774435   \n",
      "19             0.770703           0.000790             0.766162   \n",
      "20             0.762968           0.000761             0.758217   \n",
      "21             0.755763           0.000761             0.750759   \n",
      "22             0.748964           0.000741             0.743719   \n",
      "23             0.742580           0.000812             0.737099   \n",
      "24             0.736511           0.000861             0.730768   \n",
      "25             0.730730           0.000876             0.724754   \n",
      "26             0.725361           0.000904             0.719169   \n",
      "27             0.720079           0.000911             0.713673   \n",
      "28             0.715148           0.000936             0.708532   \n",
      "29             0.710443           0.001069             0.703619   \n",
      "..                  ...                ...                  ...   \n",
      "842            0.564915           0.004741             0.402855   \n",
      "843            0.564931           0.004764             0.402701   \n",
      "844            0.564920           0.004769             0.402546   \n",
      "845            0.564921           0.004770             0.402385   \n",
      "846            0.564912           0.004783             0.402232   \n",
      "847            0.564900           0.004798             0.402074   \n",
      "848            0.564904           0.004781             0.401922   \n",
      "849            0.564912           0.004790             0.401773   \n",
      "850            0.564918           0.004795             0.401612   \n",
      "851            0.564908           0.004796             0.401454   \n",
      "852            0.564910           0.004832             0.401282   \n",
      "853            0.564902           0.004817             0.401125   \n",
      "854            0.564889           0.004813             0.400960   \n",
      "855            0.564907           0.004811             0.400815   \n",
      "856            0.564899           0.004821             0.400651   \n",
      "857            0.564897           0.004820             0.400491   \n",
      "858            0.564909           0.004813             0.400360   \n",
      "859            0.564895           0.004815             0.400204   \n",
      "860            0.564904           0.004826             0.400059   \n",
      "861            0.564895           0.004819             0.399906   \n",
      "862            0.564890           0.004834             0.399754   \n",
      "863            0.564880           0.004822             0.399595   \n",
      "864            0.564881           0.004810             0.399450   \n",
      "865            0.564881           0.004831             0.399306   \n",
      "866            0.564882           0.004846             0.399165   \n",
      "867            0.564877           0.004860             0.399013   \n",
      "868            0.564887           0.004852             0.398870   \n",
      "869            0.564888           0.004862             0.398731   \n",
      "870            0.564879           0.004858             0.398573   \n",
      "871            0.564866           0.004865             0.398425   \n",
      "\n",
      "     train-mlogloss-std  \n",
      "0              0.000087  \n",
      "1              0.000330  \n",
      "2              0.000250  \n",
      "3              0.000657  \n",
      "4              0.000690  \n",
      "5              0.000704  \n",
      "6              0.000774  \n",
      "7              0.000791  \n",
      "8              0.000934  \n",
      "9              0.000813  \n",
      "10             0.000909  \n",
      "11             0.001033  \n",
      "12             0.000903  \n",
      "13             0.000916  \n",
      "14             0.000887  \n",
      "15             0.000950  \n",
      "16             0.000984  \n",
      "17             0.001038  \n",
      "18             0.001014  \n",
      "19             0.001007  \n",
      "20             0.001041  \n",
      "21             0.001002  \n",
      "22             0.000967  \n",
      "23             0.001019  \n",
      "24             0.001043  \n",
      "25             0.001046  \n",
      "26             0.001011  \n",
      "27             0.000985  \n",
      "28             0.000940  \n",
      "29             0.000835  \n",
      "..                  ...  \n",
      "842            0.001833  \n",
      "843            0.001858  \n",
      "844            0.001852  \n",
      "845            0.001850  \n",
      "846            0.001848  \n",
      "847            0.001847  \n",
      "848            0.001835  \n",
      "849            0.001845  \n",
      "850            0.001854  \n",
      "851            0.001858  \n",
      "852            0.001846  \n",
      "853            0.001842  \n",
      "854            0.001818  \n",
      "855            0.001806  \n",
      "856            0.001796  \n",
      "857            0.001793  \n",
      "858            0.001784  \n",
      "859            0.001777  \n",
      "860            0.001781  \n",
      "861            0.001789  \n",
      "862            0.001790  \n",
      "863            0.001791  \n",
      "864            0.001815  \n",
      "865            0.001822  \n",
      "866            0.001832  \n",
      "867            0.001841  \n",
      "868            0.001847  \n",
      "869            0.001860  \n",
      "870            0.001881  \n",
      "871            0.001893  \n",
      "\n",
      "[872 rows x 4 columns]\n",
      "logloss of train :\n",
      "0.42051035785\n"
     ]
    },
    {
     "data": {
      "image/png": "[encoded data removed]",
      "text/plain": [
       "<matplotlib.figure.Figure at 0x23c4512a630>"
      ]
     },
     "metadata": {},
     "output_type": "display_data"
    }
   ],
   "source": [
    "xgb6 = XGBClassifier(\n",
    "        learning_rate =0.05,\n",
    "        n_estimators=2000,  #数值大没关系，cv会自动返回合适的n_estimators\n",
    "        max_depth=5,\n",
    "        min_child_weight=5,\n",
    "        gamma=0,\n",
    "        subsample=0.8,\n",
    "        colsample_bytree=0.8,\n",
    "        colsample_bylevel=0.7,\n",
    "        reg_alpha = 1.5,\n",
    "        reg_lambda = 0.5,\n",
    "        objective= 'multi:softprob',\n",
    "        seed=3)\n",
    "\n",
    "modelfit(xgb6, X_train, y_train, cv_folds = kfold)"
   ]
  },
  {
   "cell_type": "code",
   "execution_count": null,
   "metadata": {
    "collapsed": true
   },
   "outputs": [],
   "source": []
  }
 ],
 "metadata": {
  "kernelspec": {
   "display_name": "Python 3",
   "language": "python",
   "name": "python3"
  },
  "language_info": {
   "codemirror_mode": {
    "name": "ipython",
    "version": 3
   },
   "file_extension": ".py",
   "mimetype": "text/x-python",
   "name": "python",
   "nbconvert_exporter": "python",
   "pygments_lexer": "ipython3",
   "version": "3.6.0"
  }
 },
 "nbformat": 4,
 "nbformat_minor": 2
}
