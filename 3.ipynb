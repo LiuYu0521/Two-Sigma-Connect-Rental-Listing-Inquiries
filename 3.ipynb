{
 "cells": [
  {
   "cell_type": "code",
   "execution_count": 1,
   "metadata": {
    "collapsed": false
   },
   "outputs": [
    {
     "name": "stderr",
     "output_type": "stream",
     "text": [
      "C:\\Anaconda3\\lib\\site-packages\\sklearn\\cross_validation.py:44: DeprecationWarning: This module was deprecated in version 0.18 in favor of the model_selection module into which all the refactored classes and functions are moved. Also note that the interface of the new CV iterators are different from that of this module. This module will be removed in 0.20.\n",
      "  \"This module will be removed in 0.20.\", DeprecationWarning)\n"
     ]
    }
   ],
   "source": [
    "from xgboost import XGBClassifier\n",
    "import xgboost as xgb\n",
    "\n",
    "import pandas as pd \n",
    "import numpy as np\n",
    "\n",
    "from sklearn.model_selection import GridSearchCV\n",
    "from sklearn.model_selection import StratifiedKFold\n",
    "\n",
    "from sklearn.metrics import log_loss\n",
    "\n",
    "from matplotlib import pyplot\n",
    "import seaborn as sns\n",
    "%matplotlib inline"
   ]
  },
  {
   "cell_type": "code",
   "execution_count": 2,
   "metadata": {
    "collapsed": true
   },
   "outputs": [],
   "source": [
    "train = pd.read_csv(\"RentListingInquries_FE_train.csv\")\n",
    "y_train = train['interest_level']\n",
    "train = train.drop(['interest_level'], axis = 1)\n",
    "X_train = np.array(train)"
   ]
  },
  {
   "cell_type": "code",
   "execution_count": 3,
   "metadata": {
    "collapsed": true
   },
   "outputs": [],
   "source": [
    "kfold = StratifiedKFold(n_splits=5, shuffle=True, random_state=3)"
   ]
  },
  {
   "cell_type": "code",
   "execution_count": 10,
   "metadata": {
    "collapsed": false
   },
   "outputs": [],
   "source": [
    "def modelfit(alg, X_train, y_train, useTrainCV=True, cv_folds=None, early_stopping_rounds=100):\n",
    "    \n",
    "    if useTrainCV:\n",
    "        xgb_param = alg.get_xgb_params()\n",
    "        xgb_param['num_class'] = 3\n",
    "        \n",
    "        xgtrain = xgb.DMatrix(X_train, label = y_train)\n",
    "        \n",
    "        cvresult = xgb.cv(xgb_param, xgtrain, num_boost_round=alg.get_params()['n_estimators'], folds =list(cv_folds.split(X_train, y_train)),\n",
    "                         metrics='mlogloss', early_stopping_rounds=early_stopping_rounds)\n",
    "        \n",
    "        n_estimators = cvresult.shape[0]\n",
    "        alg.set_params(n_estimators = n_estimators)\n",
    "        \n",
    "        print(cvresult)\n",
    "        #result = pd.DataFrame(cvresult)   #cv缺省返回结果为DataFrame\n",
    "        #result.to_csv('my_preds.csv', index_label = 'n_estimators')\n",
    "        cvresult.to_csv('my_preds_2.csv', index_label = 'n_estimators')\n",
    "        \n",
    "        # plot\n",
    "        test_means = cvresult['test-mlogloss-mean']\n",
    "        test_stds = cvresult['test-mlogloss-std'] \n",
    "        \n",
    "        train_means = cvresult['train-mlogloss-mean']\n",
    "        train_stds = cvresult['train-mlogloss-std'] \n",
    "\n",
    "        x_axis = range(0, n_estimators)\n",
    "        pyplot.errorbar(x_axis, test_means, yerr=test_stds ,label='Test')\n",
    "        pyplot.errorbar(x_axis, train_means, yerr=train_stds ,label='Train')\n",
    "        pyplot.title(\"XGBoost n_estimators vs Log Loss\")\n",
    "        pyplot.xlabel( 'n_estimators' )\n",
    "        pyplot.ylabel( 'Log Loss' )\n",
    "        pyplot.savefig( 'n_estimators_2.png' )\n",
    "    \n",
    "    #Fit the algorithm on the data\n",
    "    alg.fit(X_train, y_train, eval_metric='mlogloss')\n",
    "        \n",
    "    #Predict training set:\n",
    "    train_predprob = alg.predict_proba(X_train)\n",
    "    logloss = log_loss(y_train, train_predprob)\n",
    "\n",
    "        \n",
    "    #Print model report:\n",
    "    print (\"logloss of train :\" )\n",
    "    print (logloss)"
   ]
  },
  {
   "cell_type": "code",
   "execution_count": 11,
   "metadata": {
    "collapsed": false
   },
   "outputs": [
    {
     "name": "stdout",
     "output_type": "stream",
     "text": [
      "     test-mlogloss-mean  test-mlogloss-std  train-mlogloss-mean  \\\n",
      "0              1.039610           0.000372             1.039146   \n",
      "1              0.989547           0.000511             0.988597   \n",
      "2              0.946699           0.000813             0.945360   \n",
      "3              0.909863           0.000978             0.908008   \n",
      "4              0.877443           0.001143             0.875195   \n",
      "5              0.849636           0.001257             0.846892   \n",
      "6              0.825142           0.000887             0.821964   \n",
      "7              0.803790           0.000836             0.800131   \n",
      "8              0.784912           0.000934             0.780733   \n",
      "9              0.768508           0.000775             0.763878   \n",
      "10             0.753640           0.000796             0.748602   \n",
      "11             0.740182           0.000945             0.734794   \n",
      "12             0.728302           0.000880             0.722419   \n",
      "13             0.717806           0.001042             0.711480   \n",
      "14             0.708488           0.001022             0.701666   \n",
      "15             0.700108           0.000855             0.692864   \n",
      "16             0.692612           0.000870             0.684936   \n",
      "17             0.685741           0.000839             0.677599   \n",
      "18             0.679502           0.000770             0.670978   \n",
      "19             0.673952           0.000875             0.665002   \n",
      "20             0.668678           0.001038             0.659274   \n",
      "21             0.663969           0.001087             0.654044   \n",
      "22             0.659752           0.001188             0.649378   \n",
      "23             0.655703           0.001239             0.644874   \n",
      "24             0.652024           0.001225             0.640783   \n",
      "25             0.648607           0.001322             0.636973   \n",
      "26             0.645455           0.001364             0.633485   \n",
      "27             0.642454           0.001157             0.630069   \n",
      "28             0.639783           0.001134             0.626880   \n",
      "29             0.637220           0.001365             0.623819   \n",
      "..                  ...                ...                  ...   \n",
      "276            0.575266           0.003928             0.465421   \n",
      "277            0.575393           0.003954             0.465085   \n",
      "278            0.575391           0.003960             0.464769   \n",
      "279            0.575406           0.004046             0.464504   \n",
      "280            0.575493           0.004032             0.464197   \n",
      "281            0.575485           0.004061             0.463883   \n",
      "282            0.575423           0.004060             0.463544   \n",
      "283            0.575393           0.004051             0.463245   \n",
      "284            0.575378           0.004044             0.462896   \n",
      "285            0.575356           0.004047             0.462538   \n",
      "286            0.575385           0.004048             0.462232   \n",
      "287            0.575346           0.004082             0.461866   \n",
      "288            0.575410           0.004074             0.461500   \n",
      "289            0.575477           0.004124             0.461154   \n",
      "290            0.575436           0.004142             0.460811   \n",
      "291            0.575450           0.004187             0.460453   \n",
      "292            0.575475           0.004241             0.460080   \n",
      "293            0.575470           0.004270             0.459725   \n",
      "294            0.575471           0.004282             0.459382   \n",
      "295            0.575431           0.004310             0.459052   \n",
      "296            0.575378           0.004351             0.458712   \n",
      "297            0.575339           0.004352             0.458390   \n",
      "298            0.575349           0.004344             0.458026   \n",
      "299            0.575263           0.004332             0.457700   \n",
      "300            0.575215           0.004364             0.457348   \n",
      "301            0.575282           0.004397             0.457016   \n",
      "302            0.575257           0.004402             0.456677   \n",
      "303            0.575244           0.004381             0.456346   \n",
      "304            0.575227           0.004405             0.455956   \n",
      "305            0.575126           0.004358             0.455611   \n",
      "\n",
      "     train-mlogloss-std  \n",
      "0              0.000153  \n",
      "1              0.000449  \n",
      "2              0.000547  \n",
      "3              0.000928  \n",
      "4              0.000654  \n",
      "5              0.000877  \n",
      "6              0.000845  \n",
      "7              0.000875  \n",
      "8              0.001155  \n",
      "9              0.001082  \n",
      "10             0.001165  \n",
      "11             0.001156  \n",
      "12             0.000993  \n",
      "13             0.000907  \n",
      "14             0.000866  \n",
      "15             0.000941  \n",
      "16             0.000950  \n",
      "17             0.001081  \n",
      "18             0.001179  \n",
      "19             0.001060  \n",
      "20             0.001203  \n",
      "21             0.001054  \n",
      "22             0.001082  \n",
      "23             0.001053  \n",
      "24             0.001159  \n",
      "25             0.001182  \n",
      "26             0.001209  \n",
      "27             0.001302  \n",
      "28             0.001204  \n",
      "29             0.001042  \n",
      "..                  ...  \n",
      "276            0.001661  \n",
      "277            0.001688  \n",
      "278            0.001706  \n",
      "279            0.001730  \n",
      "280            0.001747  \n",
      "281            0.001722  \n",
      "282            0.001742  \n",
      "283            0.001730  \n",
      "284            0.001729  \n",
      "285            0.001696  \n",
      "286            0.001678  \n",
      "287            0.001631  \n",
      "288            0.001615  \n",
      "289            0.001640  \n",
      "290            0.001631  \n",
      "291            0.001581  \n",
      "292            0.001603  \n",
      "293            0.001611  \n",
      "294            0.001604  \n",
      "295            0.001621  \n",
      "296            0.001649  \n",
      "297            0.001658  \n",
      "298            0.001632  \n",
      "299            0.001620  \n",
      "300            0.001604  \n",
      "301            0.001591  \n",
      "302            0.001587  \n",
      "303            0.001598  \n",
      "304            0.001554  \n",
      "305            0.001553  \n",
      "\n",
      "[306 rows x 4 columns]\n",
      "logloss of train :\n",
      "0.47075175978\n"
     ]
    },
    {
     "data": {
      "image/png": "[encoded data removed]",
      "text/plain": [
       "<matplotlib.figure.Figure at 0x1d51316ba58>"
      ]
     },
     "metadata": {},
     "output_type": "display_data"
    }
   ],
   "source": [
    "#调整max_depth和min_child_weight之后再次调整n_estimators(5,5)\n",
    "xgb2_3 = XGBClassifier(\n",
    "        learning_rate =0.1,\n",
    "        n_estimators=1000,  #数值大没关系，cv会自动返回合适的n_estimators\n",
    "        max_depth=5,\n",
    "        min_child_weight=5,\n",
    "        gamma=0,\n",
    "        subsample=0.3,\n",
    "        colsample_bytree=0.8,\n",
    "        colsample_bylevel=0.7,\n",
    "        objective= 'multi:softprob',\n",
    "        seed=3)\n",
    "\n",
    "modelfit(xgb2_3, X_train, y_train, cv_folds = kfold)"
   ]
  },
  {
   "cell_type": "code",
   "execution_count": null,
   "metadata": {
    "collapsed": true
   },
   "outputs": [],
   "source": []
  }
 ],
 "metadata": {
  "kernelspec": {
   "display_name": "Python 3",
   "language": "python",
   "name": "python3"
  },
  "language_info": {
   "codemirror_mode": {
    "name": "ipython",
    "version": 3
   },
   "file_extension": ".py",
   "mimetype": "text/x-python",
   "name": "python",
   "nbconvert_exporter": "python",
   "pygments_lexer": "ipython3",
   "version": "3.6.0"
  }
 },
 "nbformat": 4,
 "nbformat_minor": 2
}
